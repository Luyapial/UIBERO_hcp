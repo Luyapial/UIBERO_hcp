{
  "nbformat": 4,
  "nbformat_minor": 0,
  "metadata": {
    "colab": {
      "provenance": [],
      "mount_file_id": "16f1ISDrfpeUF3XRWgaETeG0MzbGlgymT",
      "authorship_tag": "ABX9TyOogL8Lq1iXAcJYmGD/FyCa",
      "include_colab_link": true
    },
    "kernelspec": {
      "name": "python3",
      "display_name": "Python 3"
    },
    "language_info": {
      "name": "python"
    }
  },
  "cells": [
    {
      "cell_type": "markdown",
      "metadata": {
        "id": "view-in-github",
        "colab_type": "text"
      },
      "source": [
        "<a href=\"https://colab.research.google.com/github/Luyapial/UIBERO_hcp/blob/main/Proyecto1_HCP_Ibero.ipynb\" target=\"_parent\"><img src=\"https://colab.research.google.com/assets/colab-badge.svg\" alt=\"Open In Colab\"/></a>"
      ]
    },
    {
      "cell_type": "code",
      "source": [
        "import random"
      ],
      "metadata": {
        "id": "wEO6u-Fj7D16"
      },
      "execution_count": null,
      "outputs": []
    },
    {
      "cell_type": "code",
      "source": [
        "#tarea: crear las funciones para las siguientes medidas\n",
        "#Media, Mediana, Moda, Varianza, desviacion Estandar, Coeficiente de variación, Normalización Z\n",
        "\n",
        "#lista=[1,2,3,4,5,6,7,8,9,10]\n",
        "def media(lista_prueba):\n",
        "  n=len(lista_prueba)\n",
        "  sigma=sum(lista_prueba)\n",
        "  return (1/n)*sigma\n",
        "print (media(lista_prueba))\n"
      ],
      "metadata": {
        "id": "c4SGY9912_9R",
        "colab": {
          "base_uri": "https://localhost:8080/"
        },
        "outputId": "af58fd98-b471-42cd-9320-9f5fef373619"
      },
      "execution_count": null,
      "outputs": [
        {
          "output_type": "stream",
          "name": "stdout",
          "text": [
            "31.6\n"
          ]
        }
      ]
    },
    {
      "cell_type": "code",
      "source": [
        "lista_prueba=[]\n",
        "for i in range(20):\n",
        "  lista_prueba.append(random.randint(1,50))\n",
        "  print(lista_prueba)\n",
        "\n",
        "\n",
        "\n"
      ],
      "metadata": {
        "colab": {
          "base_uri": "https://localhost:8080/"
        },
        "id": "iQB36qZT7D5O",
        "outputId": "e0d9041d-25e7-4a4e-8c17-4c53e94ac3dd"
      },
      "execution_count": null,
      "outputs": [
        {
          "output_type": "stream",
          "name": "stdout",
          "text": [
            "[22]\n",
            "[22, 45]\n",
            "[22, 45, 33]\n",
            "[22, 45, 33, 39]\n",
            "[22, 45, 33, 39, 14]\n",
            "[22, 45, 33, 39, 14, 41]\n",
            "[22, 45, 33, 39, 14, 41, 38]\n",
            "[22, 45, 33, 39, 14, 41, 38, 15]\n",
            "[22, 45, 33, 39, 14, 41, 38, 15, 30]\n",
            "[22, 45, 33, 39, 14, 41, 38, 15, 30, 33]\n",
            "[22, 45, 33, 39, 14, 41, 38, 15, 30, 33, 37]\n",
            "[22, 45, 33, 39, 14, 41, 38, 15, 30, 33, 37, 36]\n",
            "[22, 45, 33, 39, 14, 41, 38, 15, 30, 33, 37, 36, 4]\n",
            "[22, 45, 33, 39, 14, 41, 38, 15, 30, 33, 37, 36, 4, 38]\n",
            "[22, 45, 33, 39, 14, 41, 38, 15, 30, 33, 37, 36, 4, 38, 18]\n",
            "[22, 45, 33, 39, 14, 41, 38, 15, 30, 33, 37, 36, 4, 38, 18, 24]\n",
            "[22, 45, 33, 39, 14, 41, 38, 15, 30, 33, 37, 36, 4, 38, 18, 24, 44]\n",
            "[22, 45, 33, 39, 14, 41, 38, 15, 30, 33, 37, 36, 4, 38, 18, 24, 44, 44]\n",
            "[22, 45, 33, 39, 14, 41, 38, 15, 30, 33, 37, 36, 4, 38, 18, 24, 44, 44, 30]\n",
            "[22, 45, 33, 39, 14, 41, 38, 15, 30, 33, 37, 36, 4, 38, 18, 24, 44, 44, 30, 47]\n"
          ]
        },
        {
          "output_type": "execute_result",
          "data": {
            "text/plain": [
              "31.6"
            ]
          },
          "metadata": {},
          "execution_count": 31
        }
      ]
    },
    {
      "cell_type": "code",
      "source": [
        "def mediana(lista_prueba):\n",
        "  lista_ordenada = sorted(lista_prueba)\n",
        "  n = len(lista_prueba)\n",
        "  if n % 2 == 0:\n",
        "    mediana = (lista_ordenada[n//2 - 1] + lista_ordenada[n//2]) / 2\n",
        "  else:\n",
        "    mediana = lista_ordenada[n//2]\n",
        "  return mediana\n",
        "\n",
        "mediana(lista_prueba)"
      ],
      "metadata": {
        "colab": {
          "base_uri": "https://localhost:8080/"
        },
        "id": "yCOlIRfyKhpN",
        "outputId": "ce0896f6-9b7c-4d2b-c399-1c0375f89fb8"
      },
      "execution_count": null,
      "outputs": [
        {
          "output_type": "execute_result",
          "data": {
            "text/plain": [
              "34.5"
            ]
          },
          "metadata": {},
          "execution_count": 34
        }
      ]
    },
    {
      "cell_type": "code",
      "source": [
        "from collections import Counter\n",
        "def moda(lista_prueba):\n",
        "  contador = Counter(lista_prueba)\n",
        "  moda = contador.most_common(1)[0][0]\n",
        "  return moda\n",
        "\n",
        "moda(lista_prueba)\n"
      ],
      "metadata": {
        "id": "mMFupz1eCWf6",
        "colab": {
          "base_uri": "https://localhost:8080/"
        },
        "outputId": "22687f67-1fc5-4525-8872-1c44c4af4b4e"
      },
      "execution_count": null,
      "outputs": [
        {
          "output_type": "execute_result",
          "data": {
            "text/plain": [
              "33"
            ]
          },
          "metadata": {},
          "execution_count": 35
        }
      ]
    },
    {
      "cell_type": "code",
      "source": [
        "def varianza(lista_prueba):\n",
        "  media = sum(lista_prueba) / len(lista_prueba)\n",
        "  suma_cuadrados = sum((x - media) ** 2 for x in lista_prueba)\n",
        "  varianza = suma_cuadrados / len(lista_prueba)\n",
        "  return varianza\n",
        "varianza(lista_prueba)"
      ],
      "metadata": {
        "id": "ixN3L1txCWOr",
        "colab": {
          "base_uri": "https://localhost:8080/"
        },
        "outputId": "d0f7bc7c-16d4-413f-930f-b5dd00676ea0"
      },
      "execution_count": null,
      "outputs": [
        {
          "output_type": "execute_result",
          "data": {
            "text/plain": [
              "134.44"
            ]
          },
          "metadata": {},
          "execution_count": 48
        }
      ]
    },
    {
      "cell_type": "code",
      "source": [
        "import math"
      ],
      "metadata": {
        "id": "m39iipB4CWLG"
      },
      "execution_count": null,
      "outputs": []
    },
    {
      "cell_type": "code",
      "source": [
        "def desviacion_estandar(lista_prueba):\n",
        "  desviacion_estandar = math.sqrt(varianza(lista_prueba))\n",
        "  #desviacion_estandar = (varianza(lista_prueba))**0,5\n",
        "  return desviacion_estandar\n",
        "desviacion_estandar(lista_prueba=lista_prueba)\n"
      ],
      "metadata": {
        "id": "S2xHMnCg7DbS",
        "colab": {
          "base_uri": "https://localhost:8080/"
        },
        "outputId": "e8f9c02c-431e-49d6-fa46-edb6c4db3103"
      },
      "execution_count": null,
      "outputs": [
        {
          "output_type": "execute_result",
          "data": {
            "text/plain": [
              "11.594826432508595"
            ]
          },
          "metadata": {},
          "execution_count": 73
        }
      ]
    },
    {
      "cell_type": "code",
      "source": [
        "def coeficiente_variacion(lista_prueba):\n",
        "  cv = (desviacion_estandar(lista_prueba) / media(lista_prueba)) * 100\n",
        "  return cv\n",
        "coeficiente_variacion(lista_prueba)  #36%"
      ],
      "metadata": {
        "colab": {
          "base_uri": "https://localhost:8080/"
        },
        "id": "vejacWNuhIm2",
        "outputId": "122d3697-dbde-4bce-eee4-cea8b4732bb2"
      },
      "execution_count": null,
      "outputs": [
        {
          "output_type": "execute_result",
          "data": {
            "text/plain": [
              "36.692488710470236"
            ]
          },
          "metadata": {},
          "execution_count": 68
        }
      ]
    },
    {
      "cell_type": "code",
      "source": [
        "def coeficiente_variacion(lista_prueba):\n",
        "  if len(lista_prueba) < 2:\n",
        "    return 0 #Coeficiente de variacion no esta definido para listas con menos de dos elementos\n",
        "  else:\n",
        "    n = len(lista_prueba)\n",
        "    media = sum(lista_prueba)/n\n",
        "    desviacion = desviacion_estandar(lista_prueba)\n",
        "    cv = (desviacion/media)*100\n",
        "    return cv\n",
        "coeficiente_variacion(lista_prueba)"
      ],
      "metadata": {
        "colab": {
          "base_uri": "https://localhost:8080/"
        },
        "id": "woYZQNRdhIK0",
        "outputId": "f722666d-2baa-4751-da63-9e47ced8e43f"
      },
      "execution_count": null,
      "outputs": [
        {
          "output_type": "execute_result",
          "data": {
            "text/plain": [
              "36.692488710470236"
            ]
          },
          "metadata": {},
          "execution_count": 69
        }
      ]
    },
    {
      "cell_type": "code",
      "source": [
        "import statistics\n",
        "def normalizacion_z(lista_prueba):\n",
        "  #media = statistics.mean(lista_prueba)\n",
        "  #desviacion = statistics.stdev(lista_prueba)\n",
        "  n = len(lista_prueba)\n",
        "  media = sum(lista_prueba)/n\n",
        "  desviacion = desviacion_estandar(lista_prueba)\n",
        "  lista_nomalizada = [int(x) for x in [(x - media) / desviacion for x in lista_prueba]]\n",
        "  return [(x - media) / desviacion for x in lista_prueba]\n",
        "\n",
        "normalizacion_z(lista_prueba)"
      ],
      "metadata": {
        "colab": {
          "base_uri": "https://localhost:8080/"
        },
        "id": "x4Nsz-BVhH3m",
        "outputId": "95334d74-8cf2-4923-f4c2-7675a314cd1e"
      },
      "execution_count": null,
      "outputs": [
        {
          "output_type": "execute_result",
          "data": {
            "text/plain": [
              "[-0.8279554727170674,\n",
              " 1.1556878473342396,\n",
              " 0.1207435064379055,\n",
              " 0.6382156768860725,\n",
              " -1.5179183666479568,\n",
              " 0.8107064003687948,\n",
              " 0.5519703151447113,\n",
              " -1.4316730049065955,\n",
              " -0.137992578786178,\n",
              " 0.1207435064379055,\n",
              " 0.4657249534033502,\n",
              " 0.379479591661989,\n",
              " -2.3803719840615685,\n",
              " 0.5519703151447113,\n",
              " -1.172936919682512,\n",
              " -0.655464749234345,\n",
              " 1.0694424855928784,\n",
              " 1.0694424855928784,\n",
              " -0.137992578786178,\n",
              " 1.3281785708169618]"
            ]
          },
          "metadata": {},
          "execution_count": 88
        }
      ]
    },
    {
      "cell_type": "code",
      "execution_count": null,
      "metadata": {
        "colab": {
          "base_uri": "https://localhost:8080/"
        },
        "id": "NNcMhw-99tA2",
        "outputId": "0b134eb5-4bc5-4616-cd56-06512b088a6c"
      },
      "outputs": [
        {
          "output_type": "stream",
          "name": "stdout",
          "text": [
            "7\n"
          ]
        }
      ],
      "source": [
        "fruta=\"Manzana\"\n",
        "fruta2=\"Banano\"\n",
        "numero1=2\n",
        "numero2=5\n",
        "suma=numero1+numero2\n",
        "print(suma)\n"
      ]
    },
    {
      "cell_type": "code",
      "source": [
        "nombre=input(\"Digite su nombre:\")\n",
        "print(\"Su nombre es \",nombre)"
      ],
      "metadata": {
        "colab": {
          "base_uri": "https://localhost:8080/"
        },
        "id": "IwdiWGhaBVfq",
        "outputId": "ae5a5ec1-77b9-4a11-e3e5-a393b40cf54b"
      },
      "execution_count": null,
      "outputs": [
        {
          "output_type": "stream",
          "name": "stdout",
          "text": [
            "Digite su nombre:ludy\n",
            "Su nombre es  ludy\n"
          ]
        }
      ]
    },
    {
      "cell_type": "code",
      "source": [
        "#condicionales\n",
        "numero =int(input(\"Digite un número entre 1 y 3: \"))\n",
        "if numero == 1 :\n",
        "  print(\"Esta es la opción 1\")\n",
        "elif numero == 2 :\n",
        "    print(\"Esta es la opción 2\")\n",
        "else :\n",
        "    print (\"Esta es la opción 3\")"
      ],
      "metadata": {
        "colab": {
          "base_uri": "https://localhost:8080/"
        },
        "id": "kvdQfgq-CIPZ",
        "outputId": "8454d3da-bd98-4dc6-ebf3-e6d8177a6a73"
      },
      "execution_count": null,
      "outputs": [
        {
          "output_type": "stream",
          "name": "stdout",
          "text": [
            "Digite un número entre 1 y 3: 2\n",
            "Esta es la opción 2\n"
          ]
        }
      ]
    },
    {
      "cell_type": "code",
      "source": [
        "#ciclos\n",
        "i=0\n",
        "while i < 3 :\n",
        "  print (i)\n",
        "  i = i + 1\n"
      ],
      "metadata": {
        "colab": {
          "base_uri": "https://localhost:8080/"
        },
        "id": "FUF2fPnPExoU",
        "outputId": "5c65d973-1f1b-4523-d05f-08866dedab79"
      },
      "execution_count": null,
      "outputs": [
        {
          "output_type": "stream",
          "name": "stdout",
          "text": [
            "0\n",
            "1\n",
            "2\n"
          ]
        }
      ]
    },
    {
      "cell_type": "code",
      "source": [
        "#for para recorrer listas\n",
        "lista = [\"Amalia\",\"Carlos\",\"Julio\"]\n",
        "lista2=[\"Ludy\",\"Oscar\",\"Rodolfo\"]\n",
        "for i in lista :\n",
        "  print(i)\n",
        "#funciones para listas\n",
        "lista.append(1979)\n",
        "print(lista)\n",
        "\n",
        "lista.count(1979)\n",
        "\n",
        "lista.extend(lista2)\n",
        "print(lista)\n",
        "\n",
        "lista.index(\"Oscar\")\n",
        "\n",
        "lista.insert(5,\"Jose\")\n",
        "print(lista)\n",
        "\n",
        "lista.pop(3)\n",
        "print(lista)\n",
        "\n",
        "lista.remove(\"Julio\")\n",
        "print(lista)\n",
        "\n",
        "lista.reverse()\n",
        "print(lista)\n",
        "\n",
        "lista.append(\"Andres\")\n",
        "\n",
        "lista.sort()\n",
        "print(lista)\n"
      ],
      "metadata": {
        "colab": {
          "base_uri": "https://localhost:8080/"
        },
        "id": "PpJPvdiBFaS3",
        "outputId": "41a5df15-25c2-4558-fe0e-4d4879505a72"
      },
      "execution_count": null,
      "outputs": [
        {
          "output_type": "stream",
          "name": "stdout",
          "text": [
            "Amalia\n",
            "Carlos\n",
            "Julio\n",
            "['Amalia', 'Carlos', 'Julio', 1979]\n",
            "['Amalia', 'Carlos', 'Julio', 1979, 'Ludy', 'Oscar', 'Rodolfo']\n",
            "['Amalia', 'Carlos', 'Julio', 1979, 'Ludy', 'Jose', 'Oscar', 'Rodolfo']\n",
            "['Amalia', 'Carlos', 'Julio', 'Ludy', 'Jose', 'Oscar', 'Rodolfo']\n",
            "['Amalia', 'Carlos', 'Ludy', 'Jose', 'Oscar', 'Rodolfo']\n",
            "['Rodolfo', 'Oscar', 'Jose', 'Ludy', 'Carlos', 'Amalia']\n",
            "['Amalia', 'Andres', 'Carlos', 'Jose', 'Ludy', 'Oscar', 'Rodolfo']\n"
          ]
        }
      ]
    },
    {
      "cell_type": "code",
      "source": [
        "##Actividad5: sintaxis de programacion en Python\n",
        "#asignacion de variables\n",
        "numero = 1\n",
        "print(numero)\n",
        "type(numero)\n"
      ],
      "metadata": {
        "colab": {
          "base_uri": "https://localhost:8080/"
        },
        "id": "Gr7PsrkpU8k3",
        "outputId": "2bdb5478-a05d-4798-beba-c1f5fd87395d"
      },
      "execution_count": 12,
      "outputs": [
        {
          "output_type": "stream",
          "name": "stdout",
          "text": [
            "1\n",
            "Digite un vr entre 1 y 3: 3\n",
            "Este es el numero mayor\n"
          ]
        }
      ]
    },
    {
      "cell_type": "code",
      "source": [
        "#condicional if\n",
        "numero_cond=(int(input(\"Digite un vr entre 1 y 3: \")))\n",
        "if numero_cond == 1:\n",
        "  print(\"Este número es el menor\")\n",
        "elif numero_cond == 2:\n",
        "  print(\"Este número es el intermedio\")\n",
        "else :\n",
        "  print(\"Este es el numero mayor\")"
      ],
      "metadata": {
        "id": "Hok3Ypt-U8iK"
      },
      "execution_count": null,
      "outputs": []
    },
    {
      "cell_type": "code",
      "source": [
        "#ciclos \"while\" y \"for\"\n",
        "#repiten lineas de codigo que se le indique, siempre que la condicion se cumpla\n",
        "i=0 #variable de control que inicia en 0\n",
        "while i <= 3: #ciclo: se repite el codigo mientras que la variable de control sea menor ó igual a 3\n",
        "  print(\"Para IF, la cuenta va en: \",i) # linea de cododigo que se ejecuta mientras la condicion se cumpla\n",
        "  i=i+1 #se establece el incremento de la variable de control por cada vez que se ejecuta el codigo\n",
        "\n",
        "for i in range(4):\n",
        "  print (\"Para FOR, la cuenta va en: \",i)\n"
      ],
      "metadata": {
        "colab": {
          "base_uri": "https://localhost:8080/"
        },
        "id": "StmFkakyU8fJ",
        "outputId": "abec3a18-9ea1-4d99-8d94-08f5a2d5f583"
      },
      "execution_count": 20,
      "outputs": [
        {
          "output_type": "stream",
          "name": "stdout",
          "text": [
            "Para IF, la cuenta va en:  0\n",
            "Para IF, la cuenta va en:  1\n",
            "Para IF, la cuenta va en:  2\n",
            "Para IF, la cuenta va en:  3\n",
            "Para FOR, la cuenta va en:  0\n",
            "Para FOR, la cuenta va en:  1\n",
            "Para FOR, la cuenta va en:  2\n",
            "Para FOR, la cuenta va en:  3\n"
          ]
        }
      ]
    },
    {
      "cell_type": "code",
      "source": [
        "#ciclo con una condición que permite recorrer una lista\n",
        "lista=[1,2,3,4,5]\n",
        "for i in lista:\n",
        "  print (\"La cuenta va en : \",i)"
      ],
      "metadata": {
        "colab": {
          "base_uri": "https://localhost:8080/"
        },
        "id": "iUT0IC04U8XZ",
        "outputId": "90d4e96f-4ae0-49b0-95fb-95d2cb0b6e04"
      },
      "execution_count": 21,
      "outputs": [
        {
          "output_type": "stream",
          "name": "stdout",
          "text": [
            "La cuenta va en :  1\n",
            "La cuenta va en :  2\n",
            "La cuenta va en :  3\n",
            "La cuenta va en :  4\n",
            "La cuenta va en :  5\n"
          ]
        }
      ]
    },
    {
      "cell_type": "code",
      "source": [
        "#metodos de las listas\n",
        "lista=[1,2,3,4,5]\n",
        "lista.pop(1) #elimina el elemento en la posicion 1 de la lista\n",
        "print(lista)\n",
        "lista.append(3) #agrega el elemento 3 al final de la lista\n",
        "print(lista)\n",
        "lista.insert(3,9) #agrega el elemento 9 en la posicion 3 de la lista\n",
        "print(lista)\n",
        "x=lista.count(3) #cuenta la cantidad de veces que aparece el elemento 3 en la lista\n",
        "print(x)\n",
        "lista.sort()\n",
        "print(lista)\n",
        "lista.reverse()\n",
        "print(lista)\n",
        "#para consultar elementos de una lista\n",
        "nueva_lista=[1,2,3,4,5]\n",
        "elemento =nueva_lista[3] #accede al elemento en la posicion 3 de la lista\n",
        "print(elemento)\n",
        "#consulta de listas dentro de listas\n",
        "lista=[[1,2,3],[4,5,6],[7,8,9]]\n",
        "elemento=lista[1]\n",
        "print(elemento)\n",
        "elemento=lista[2][1] #accede al elemento en la posicion 1,1 de la lista\n",
        "print(elemento)\n"
      ],
      "metadata": {
        "colab": {
          "base_uri": "https://localhost:8080/"
        },
        "id": "Z4-JL_P3U8OB",
        "outputId": "49a725c0-be57-4a4c-912c-6308023b200f"
      },
      "execution_count": 43,
      "outputs": [
        {
          "output_type": "stream",
          "name": "stdout",
          "text": [
            "[1, 3, 4, 5]\n",
            "[1, 3, 4, 5, 3]\n",
            "[1, 3, 4, 9, 5, 3]\n",
            "2\n",
            "[1, 3, 3, 4, 5, 9]\n",
            "[9, 5, 4, 3, 3, 1]\n",
            "4\n",
            "[4, 5, 6]\n",
            "8\n"
          ]
        }
      ]
    },
    {
      "cell_type": "code",
      "source": [
        "import pandas as pd"
      ],
      "metadata": {
        "id": "mrV74SId5RE9"
      },
      "execution_count": 45,
      "outputs": []
    },
    {
      "cell_type": "code",
      "source": [
        "\n",
        "df = pd.read_csv('/content/drive/MyDrive/Colab Notebooks/matriz_bicis.csv')"
      ],
      "metadata": {
        "id": "2A42jWeZ6Cuz"
      },
      "execution_count": 59,
      "outputs": []
    },
    {
      "cell_type": "code",
      "source": [
        "df"
      ],
      "metadata": {
        "colab": {
          "base_uri": "https://localhost:8080/",
          "height": 363
        },
        "id": "DsAJqUkQ8Mql",
        "outputId": "f4ff3fb6-64e4-4354-bf68-14e15b27cbf4"
      },
      "execution_count": 60,
      "outputs": [
        {
          "output_type": "execute_result",
          "data": {
            "text/plain": [
              "      Modelo  EjePed(cm)   Bielas (mm)  Sillin (mm)  Manilar (cm)  Costo (US$)\n",
              "0     Jaguar         263           174          255            46        11090\n",
              "1     Panter         292           169          274            44        14501\n",
              "2       Lion         295           180          273            47        12560\n",
              "3       Bear         240           172          271            49        14968\n",
              "4      Snake         295           179          243            46        12461\n",
              "5    Giraffe         244           167          247            48        10995\n",
              "6       Frog         278           160          274            40        13101\n",
              "7  Alligator         257           165          271            48        14537\n",
              "8     Monkey         278           179          268            47        14403\n",
              "9     Spider         273           172          266            48        14064"
            ],
            "text/html": [
              "\n",
              "  <div id=\"df-087d070c-28e6-43f3-a241-53db11df3111\" class=\"colab-df-container\">\n",
              "    <div>\n",
              "<style scoped>\n",
              "    .dataframe tbody tr th:only-of-type {\n",
              "        vertical-align: middle;\n",
              "    }\n",
              "\n",
              "    .dataframe tbody tr th {\n",
              "        vertical-align: top;\n",
              "    }\n",
              "\n",
              "    .dataframe thead th {\n",
              "        text-align: right;\n",
              "    }\n",
              "</style>\n",
              "<table border=\"1\" class=\"dataframe\">\n",
              "  <thead>\n",
              "    <tr style=\"text-align: right;\">\n",
              "      <th></th>\n",
              "      <th>Modelo</th>\n",
              "      <th>EjePed(cm)</th>\n",
              "      <th>Bielas (mm)</th>\n",
              "      <th>Sillin (mm)</th>\n",
              "      <th>Manilar (cm)</th>\n",
              "      <th>Costo (US$)</th>\n",
              "    </tr>\n",
              "  </thead>\n",
              "  <tbody>\n",
              "    <tr>\n",
              "      <th>0</th>\n",
              "      <td>Jaguar</td>\n",
              "      <td>263</td>\n",
              "      <td>174</td>\n",
              "      <td>255</td>\n",
              "      <td>46</td>\n",
              "      <td>11090</td>\n",
              "    </tr>\n",
              "    <tr>\n",
              "      <th>1</th>\n",
              "      <td>Panter</td>\n",
              "      <td>292</td>\n",
              "      <td>169</td>\n",
              "      <td>274</td>\n",
              "      <td>44</td>\n",
              "      <td>14501</td>\n",
              "    </tr>\n",
              "    <tr>\n",
              "      <th>2</th>\n",
              "      <td>Lion</td>\n",
              "      <td>295</td>\n",
              "      <td>180</td>\n",
              "      <td>273</td>\n",
              "      <td>47</td>\n",
              "      <td>12560</td>\n",
              "    </tr>\n",
              "    <tr>\n",
              "      <th>3</th>\n",
              "      <td>Bear</td>\n",
              "      <td>240</td>\n",
              "      <td>172</td>\n",
              "      <td>271</td>\n",
              "      <td>49</td>\n",
              "      <td>14968</td>\n",
              "    </tr>\n",
              "    <tr>\n",
              "      <th>4</th>\n",
              "      <td>Snake</td>\n",
              "      <td>295</td>\n",
              "      <td>179</td>\n",
              "      <td>243</td>\n",
              "      <td>46</td>\n",
              "      <td>12461</td>\n",
              "    </tr>\n",
              "    <tr>\n",
              "      <th>5</th>\n",
              "      <td>Giraffe</td>\n",
              "      <td>244</td>\n",
              "      <td>167</td>\n",
              "      <td>247</td>\n",
              "      <td>48</td>\n",
              "      <td>10995</td>\n",
              "    </tr>\n",
              "    <tr>\n",
              "      <th>6</th>\n",
              "      <td>Frog</td>\n",
              "      <td>278</td>\n",
              "      <td>160</td>\n",
              "      <td>274</td>\n",
              "      <td>40</td>\n",
              "      <td>13101</td>\n",
              "    </tr>\n",
              "    <tr>\n",
              "      <th>7</th>\n",
              "      <td>Alligator</td>\n",
              "      <td>257</td>\n",
              "      <td>165</td>\n",
              "      <td>271</td>\n",
              "      <td>48</td>\n",
              "      <td>14537</td>\n",
              "    </tr>\n",
              "    <tr>\n",
              "      <th>8</th>\n",
              "      <td>Monkey</td>\n",
              "      <td>278</td>\n",
              "      <td>179</td>\n",
              "      <td>268</td>\n",
              "      <td>47</td>\n",
              "      <td>14403</td>\n",
              "    </tr>\n",
              "    <tr>\n",
              "      <th>9</th>\n",
              "      <td>Spider</td>\n",
              "      <td>273</td>\n",
              "      <td>172</td>\n",
              "      <td>266</td>\n",
              "      <td>48</td>\n",
              "      <td>14064</td>\n",
              "    </tr>\n",
              "  </tbody>\n",
              "</table>\n",
              "</div>\n",
              "    <div class=\"colab-df-buttons\">\n",
              "\n",
              "  <div class=\"colab-df-container\">\n",
              "    <button class=\"colab-df-convert\" onclick=\"convertToInteractive('df-087d070c-28e6-43f3-a241-53db11df3111')\"\n",
              "            title=\"Convert this dataframe to an interactive table.\"\n",
              "            style=\"display:none;\">\n",
              "\n",
              "  <svg xmlns=\"http://www.w3.org/2000/svg\" height=\"24px\" viewBox=\"0 -960 960 960\">\n",
              "    <path d=\"M120-120v-720h720v720H120Zm60-500h600v-160H180v160Zm220 220h160v-160H400v160Zm0 220h160v-160H400v160ZM180-400h160v-160H180v160Zm440 0h160v-160H620v160ZM180-180h160v-160H180v160Zm440 0h160v-160H620v160Z\"/>\n",
              "  </svg>\n",
              "    </button>\n",
              "\n",
              "  <style>\n",
              "    .colab-df-container {\n",
              "      display:flex;\n",
              "      gap: 12px;\n",
              "    }\n",
              "\n",
              "    .colab-df-convert {\n",
              "      background-color: #E8F0FE;\n",
              "      border: none;\n",
              "      border-radius: 50%;\n",
              "      cursor: pointer;\n",
              "      display: none;\n",
              "      fill: #1967D2;\n",
              "      height: 32px;\n",
              "      padding: 0 0 0 0;\n",
              "      width: 32px;\n",
              "    }\n",
              "\n",
              "    .colab-df-convert:hover {\n",
              "      background-color: #E2EBFA;\n",
              "      box-shadow: 0px 1px 2px rgba(60, 64, 67, 0.3), 0px 1px 3px 1px rgba(60, 64, 67, 0.15);\n",
              "      fill: #174EA6;\n",
              "    }\n",
              "\n",
              "    .colab-df-buttons div {\n",
              "      margin-bottom: 4px;\n",
              "    }\n",
              "\n",
              "    [theme=dark] .colab-df-convert {\n",
              "      background-color: #3B4455;\n",
              "      fill: #D2E3FC;\n",
              "    }\n",
              "\n",
              "    [theme=dark] .colab-df-convert:hover {\n",
              "      background-color: #434B5C;\n",
              "      box-shadow: 0px 1px 3px 1px rgba(0, 0, 0, 0.15);\n",
              "      filter: drop-shadow(0px 1px 2px rgba(0, 0, 0, 0.3));\n",
              "      fill: #FFFFFF;\n",
              "    }\n",
              "  </style>\n",
              "\n",
              "    <script>\n",
              "      const buttonEl =\n",
              "        document.querySelector('#df-087d070c-28e6-43f3-a241-53db11df3111 button.colab-df-convert');\n",
              "      buttonEl.style.display =\n",
              "        google.colab.kernel.accessAllowed ? 'block' : 'none';\n",
              "\n",
              "      async function convertToInteractive(key) {\n",
              "        const element = document.querySelector('#df-087d070c-28e6-43f3-a241-53db11df3111');\n",
              "        const dataTable =\n",
              "          await google.colab.kernel.invokeFunction('convertToInteractive',\n",
              "                                                    [key], {});\n",
              "        if (!dataTable) return;\n",
              "\n",
              "        const docLinkHtml = 'Like what you see? Visit the ' +\n",
              "          '<a target=\"_blank\" href=https://colab.research.google.com/notebooks/data_table.ipynb>data table notebook</a>'\n",
              "          + ' to learn more about interactive tables.';\n",
              "        element.innerHTML = '';\n",
              "        dataTable['output_type'] = 'display_data';\n",
              "        await google.colab.output.renderOutput(dataTable, element);\n",
              "        const docLink = document.createElement('div');\n",
              "        docLink.innerHTML = docLinkHtml;\n",
              "        element.appendChild(docLink);\n",
              "      }\n",
              "    </script>\n",
              "  </div>\n",
              "\n",
              "\n",
              "<div id=\"df-3b9182f0-7098-4a46-a7eb-9be699303a0b\">\n",
              "  <button class=\"colab-df-quickchart\" onclick=\"quickchart('df-3b9182f0-7098-4a46-a7eb-9be699303a0b')\"\n",
              "            title=\"Suggest charts\"\n",
              "            style=\"display:none;\">\n",
              "\n",
              "<svg xmlns=\"http://www.w3.org/2000/svg\" height=\"24px\"viewBox=\"0 0 24 24\"\n",
              "     width=\"24px\">\n",
              "    <g>\n",
              "        <path d=\"M19 3H5c-1.1 0-2 .9-2 2v14c0 1.1.9 2 2 2h14c1.1 0 2-.9 2-2V5c0-1.1-.9-2-2-2zM9 17H7v-7h2v7zm4 0h-2V7h2v10zm4 0h-2v-4h2v4z\"/>\n",
              "    </g>\n",
              "</svg>\n",
              "  </button>\n",
              "\n",
              "<style>\n",
              "  .colab-df-quickchart {\n",
              "      --bg-color: #E8F0FE;\n",
              "      --fill-color: #1967D2;\n",
              "      --hover-bg-color: #E2EBFA;\n",
              "      --hover-fill-color: #174EA6;\n",
              "      --disabled-fill-color: #AAA;\n",
              "      --disabled-bg-color: #DDD;\n",
              "  }\n",
              "\n",
              "  [theme=dark] .colab-df-quickchart {\n",
              "      --bg-color: #3B4455;\n",
              "      --fill-color: #D2E3FC;\n",
              "      --hover-bg-color: #434B5C;\n",
              "      --hover-fill-color: #FFFFFF;\n",
              "      --disabled-bg-color: #3B4455;\n",
              "      --disabled-fill-color: #666;\n",
              "  }\n",
              "\n",
              "  .colab-df-quickchart {\n",
              "    background-color: var(--bg-color);\n",
              "    border: none;\n",
              "    border-radius: 50%;\n",
              "    cursor: pointer;\n",
              "    display: none;\n",
              "    fill: var(--fill-color);\n",
              "    height: 32px;\n",
              "    padding: 0;\n",
              "    width: 32px;\n",
              "  }\n",
              "\n",
              "  .colab-df-quickchart:hover {\n",
              "    background-color: var(--hover-bg-color);\n",
              "    box-shadow: 0 1px 2px rgba(60, 64, 67, 0.3), 0 1px 3px 1px rgba(60, 64, 67, 0.15);\n",
              "    fill: var(--button-hover-fill-color);\n",
              "  }\n",
              "\n",
              "  .colab-df-quickchart-complete:disabled,\n",
              "  .colab-df-quickchart-complete:disabled:hover {\n",
              "    background-color: var(--disabled-bg-color);\n",
              "    fill: var(--disabled-fill-color);\n",
              "    box-shadow: none;\n",
              "  }\n",
              "\n",
              "  .colab-df-spinner {\n",
              "    border: 2px solid var(--fill-color);\n",
              "    border-color: transparent;\n",
              "    border-bottom-color: var(--fill-color);\n",
              "    animation:\n",
              "      spin 1s steps(1) infinite;\n",
              "  }\n",
              "\n",
              "  @keyframes spin {\n",
              "    0% {\n",
              "      border-color: transparent;\n",
              "      border-bottom-color: var(--fill-color);\n",
              "      border-left-color: var(--fill-color);\n",
              "    }\n",
              "    20% {\n",
              "      border-color: transparent;\n",
              "      border-left-color: var(--fill-color);\n",
              "      border-top-color: var(--fill-color);\n",
              "    }\n",
              "    30% {\n",
              "      border-color: transparent;\n",
              "      border-left-color: var(--fill-color);\n",
              "      border-top-color: var(--fill-color);\n",
              "      border-right-color: var(--fill-color);\n",
              "    }\n",
              "    40% {\n",
              "      border-color: transparent;\n",
              "      border-right-color: var(--fill-color);\n",
              "      border-top-color: var(--fill-color);\n",
              "    }\n",
              "    60% {\n",
              "      border-color: transparent;\n",
              "      border-right-color: var(--fill-color);\n",
              "    }\n",
              "    80% {\n",
              "      border-color: transparent;\n",
              "      border-right-color: var(--fill-color);\n",
              "      border-bottom-color: var(--fill-color);\n",
              "    }\n",
              "    90% {\n",
              "      border-color: transparent;\n",
              "      border-bottom-color: var(--fill-color);\n",
              "    }\n",
              "  }\n",
              "</style>\n",
              "\n",
              "  <script>\n",
              "    async function quickchart(key) {\n",
              "      const quickchartButtonEl =\n",
              "        document.querySelector('#' + key + ' button');\n",
              "      quickchartButtonEl.disabled = true;  // To prevent multiple clicks.\n",
              "      quickchartButtonEl.classList.add('colab-df-spinner');\n",
              "      try {\n",
              "        const charts = await google.colab.kernel.invokeFunction(\n",
              "            'suggestCharts', [key], {});\n",
              "      } catch (error) {\n",
              "        console.error('Error during call to suggestCharts:', error);\n",
              "      }\n",
              "      quickchartButtonEl.classList.remove('colab-df-spinner');\n",
              "      quickchartButtonEl.classList.add('colab-df-quickchart-complete');\n",
              "    }\n",
              "    (() => {\n",
              "      let quickchartButtonEl =\n",
              "        document.querySelector('#df-3b9182f0-7098-4a46-a7eb-9be699303a0b button');\n",
              "      quickchartButtonEl.style.display =\n",
              "        google.colab.kernel.accessAllowed ? 'block' : 'none';\n",
              "    })();\n",
              "  </script>\n",
              "</div>\n",
              "\n",
              "  <div id=\"id_3d1cdc30-1a58-4f94-b623-8db819226324\">\n",
              "    <style>\n",
              "      .colab-df-generate {\n",
              "        background-color: #E8F0FE;\n",
              "        border: none;\n",
              "        border-radius: 50%;\n",
              "        cursor: pointer;\n",
              "        display: none;\n",
              "        fill: #1967D2;\n",
              "        height: 32px;\n",
              "        padding: 0 0 0 0;\n",
              "        width: 32px;\n",
              "      }\n",
              "\n",
              "      .colab-df-generate:hover {\n",
              "        background-color: #E2EBFA;\n",
              "        box-shadow: 0px 1px 2px rgba(60, 64, 67, 0.3), 0px 1px 3px 1px rgba(60, 64, 67, 0.15);\n",
              "        fill: #174EA6;\n",
              "      }\n",
              "\n",
              "      [theme=dark] .colab-df-generate {\n",
              "        background-color: #3B4455;\n",
              "        fill: #D2E3FC;\n",
              "      }\n",
              "\n",
              "      [theme=dark] .colab-df-generate:hover {\n",
              "        background-color: #434B5C;\n",
              "        box-shadow: 0px 1px 3px 1px rgba(0, 0, 0, 0.15);\n",
              "        filter: drop-shadow(0px 1px 2px rgba(0, 0, 0, 0.3));\n",
              "        fill: #FFFFFF;\n",
              "      }\n",
              "    </style>\n",
              "    <button class=\"colab-df-generate\" onclick=\"generateWithVariable('df')\"\n",
              "            title=\"Generate code using this dataframe.\"\n",
              "            style=\"display:none;\">\n",
              "\n",
              "  <svg xmlns=\"http://www.w3.org/2000/svg\" height=\"24px\"viewBox=\"0 0 24 24\"\n",
              "       width=\"24px\">\n",
              "    <path d=\"M7,19H8.4L18.45,9,17,7.55,7,17.6ZM5,21V16.75L18.45,3.32a2,2,0,0,1,2.83,0l1.4,1.43a1.91,1.91,0,0,1,.58,1.4,1.91,1.91,0,0,1-.58,1.4L9.25,21ZM18.45,9,17,7.55Zm-12,3A5.31,5.31,0,0,0,4.9,8.1,5.31,5.31,0,0,0,1,6.5,5.31,5.31,0,0,0,4.9,4.9,5.31,5.31,0,0,0,6.5,1,5.31,5.31,0,0,0,8.1,4.9,5.31,5.31,0,0,0,12,6.5,5.46,5.46,0,0,0,6.5,12Z\"/>\n",
              "  </svg>\n",
              "    </button>\n",
              "    <script>\n",
              "      (() => {\n",
              "      const buttonEl =\n",
              "        document.querySelector('#id_3d1cdc30-1a58-4f94-b623-8db819226324 button.colab-df-generate');\n",
              "      buttonEl.style.display =\n",
              "        google.colab.kernel.accessAllowed ? 'block' : 'none';\n",
              "\n",
              "      buttonEl.onclick = () => {\n",
              "        google.colab.notebook.generateWithVariable('df');\n",
              "      }\n",
              "      })();\n",
              "    </script>\n",
              "  </div>\n",
              "\n",
              "    </div>\n",
              "  </div>\n"
            ],
            "application/vnd.google.colaboratory.intrinsic+json": {
              "type": "dataframe",
              "variable_name": "df",
              "summary": "{\n  \"name\": \"df\",\n  \"rows\": 10,\n  \"fields\": [\n    {\n      \"column\": \"Modelo\",\n      \"properties\": {\n        \"dtype\": \"string\",\n        \"num_unique_values\": 10,\n        \"samples\": [\n          \"Monkey\",\n          \"Panter\",\n          \"Giraffe\"\n        ],\n        \"semantic_type\": \"\",\n        \"description\": \"\"\n      }\n    },\n    {\n      \"column\": \"EjePed(cm)\",\n      \"properties\": {\n        \"dtype\": \"number\",\n        \"std\": 20,\n        \"min\": 240,\n        \"max\": 295,\n        \"num_unique_values\": 8,\n        \"samples\": [\n          292,\n          278,\n          263\n        ],\n        \"semantic_type\": \"\",\n        \"description\": \"\"\n      }\n    },\n    {\n      \"column\": \" Bielas (mm)\",\n      \"properties\": {\n        \"dtype\": \"number\",\n        \"std\": 6,\n        \"min\": 160,\n        \"max\": 180,\n        \"num_unique_values\": 8,\n        \"samples\": [\n          169,\n          167,\n          174\n        ],\n        \"semantic_type\": \"\",\n        \"description\": \"\"\n      }\n    },\n    {\n      \"column\": \"Sillin (mm)\",\n      \"properties\": {\n        \"dtype\": \"number\",\n        \"std\": 11,\n        \"min\": 243,\n        \"max\": 274,\n        \"num_unique_values\": 8,\n        \"samples\": [\n          274,\n          247,\n          255\n        ],\n        \"semantic_type\": \"\",\n        \"description\": \"\"\n      }\n    },\n    {\n      \"column\": \"Manilar (cm)\",\n      \"properties\": {\n        \"dtype\": \"number\",\n        \"std\": 2,\n        \"min\": 40,\n        \"max\": 49,\n        \"num_unique_values\": 6,\n        \"samples\": [\n          46,\n          44,\n          40\n        ],\n        \"semantic_type\": \"\",\n        \"description\": \"\"\n      }\n    },\n    {\n      \"column\": \"Costo (US$)\",\n      \"properties\": {\n        \"dtype\": \"number\",\n        \"std\": 1454,\n        \"min\": 10995,\n        \"max\": 14968,\n        \"num_unique_values\": 10,\n        \"samples\": [\n          14403,\n          14501,\n          10995\n        ],\n        \"semantic_type\": \"\",\n        \"description\": \"\"\n      }\n    }\n  ]\n}"
            }
          },
          "metadata": {},
          "execution_count": 60
        }
      ]
    },
    {
      "cell_type": "code",
      "source": [
        "print(df.info())"
      ],
      "metadata": {
        "colab": {
          "base_uri": "https://localhost:8080/"
        },
        "id": "GifatGhM-QD5",
        "outputId": "21bd49de-1cb9-4d66-fce9-47ff176bb907"
      },
      "execution_count": 61,
      "outputs": [
        {
          "output_type": "stream",
          "name": "stdout",
          "text": [
            "<class 'pandas.core.frame.DataFrame'>\n",
            "RangeIndex: 10 entries, 0 to 9\n",
            "Data columns (total 6 columns):\n",
            " #   Column        Non-Null Count  Dtype \n",
            "---  ------        --------------  ----- \n",
            " 0   Modelo        10 non-null     object\n",
            " 1   EjePed(cm)    10 non-null     int64 \n",
            " 2    Bielas (mm)  10 non-null     int64 \n",
            " 3   Sillin (mm)   10 non-null     int64 \n",
            " 4   Manilar (cm)  10 non-null     int64 \n",
            " 5   Costo (US$)   10 non-null     int64 \n",
            "dtypes: int64(5), object(1)\n",
            "memory usage: 608.0+ bytes\n",
            "None\n"
          ]
        }
      ]
    },
    {
      "cell_type": "code",
      "source": [
        "N = int(input())\n",
        "db = [10]\n",
        "for i in range(10):\n",
        "  c=input()\n",
        "  db.append(c.split(' '))\n",
        "\n",
        "P1 = 240\n",
        "P2 = 300\n",
        "P3 = 160\n",
        "P4 = 180\n",
        "P5 = 240\n",
        "P6 = 275\n",
        "P7 = 50\n",
        "\n",
        "parametros = [P1,P2,P3,P4,P5,P6,P7]\n",
        "\n",
        "disponibilidad=False\n",
        "\n",
        "exito=[]\n",
        "\n",
        "for i in range(db[0]):\n",
        "\n",
        "   if (int(db[i+1][0]) >= parametros[0]) and \\\n",
        "       (int(db[i+1][0]) <= parametros[1]) and \\\n",
        "       (int(db[i+1][1]) >= parametros[2]) and \\\n",
        "       (int(db[i+1][1]) <= parametros[3]) and \\\n",
        "       (int(db[i+1][2]) >= parametros[4]) and \\\n",
        "       (int(db[i+1][2]) <= parametros[5]) and \\\n",
        "       (int(db[i+1][3]) <= parametros[6]):\n",
        "\n",
        "       exito.append(db[i+1][4])\n",
        "\n",
        "       disponibilidad = True\n",
        "if not disponibilidad:\n",
        "   print(\"NO DISPONIBLE\")\n",
        "else:\n",
        "   for j in exito:\n",
        "    print(j)\n",
        "   print()"
      ],
      "metadata": {
        "colab": {
          "base_uri": "https://localhost:8080/",
          "height": 426
        },
        "id": "Xv5kogCX-P77",
        "outputId": "bd16f29b-89f3-40b1-e107-6aa5ea2835b7"
      },
      "execution_count": 77,
      "outputs": [
        {
          "name": "stdout",
          "output_type": "stream",
          "text": [
            "263\n",
            "174\n",
            "255\n",
            "46\n"
          ]
        },
        {
          "output_type": "error",
          "ename": "KeyboardInterrupt",
          "evalue": "Interrupted by user",
          "traceback": [
            "\u001b[0;31m---------------------------------------------------------------------------\u001b[0m",
            "\u001b[0;31mKeyboardInterrupt\u001b[0m                         Traceback (most recent call last)",
            "\u001b[0;32m<ipython-input-77-7b1c6c280ff6>\u001b[0m in \u001b[0;36m<cell line: 3>\u001b[0;34m()\u001b[0m\n\u001b[1;32m      2\u001b[0m \u001b[0mdb\u001b[0m \u001b[0;34m=\u001b[0m \u001b[0;34m[\u001b[0m\u001b[0;36m10\u001b[0m\u001b[0;34m]\u001b[0m\u001b[0;34m\u001b[0m\u001b[0;34m\u001b[0m\u001b[0m\n\u001b[1;32m      3\u001b[0m \u001b[0;32mfor\u001b[0m \u001b[0mi\u001b[0m \u001b[0;32min\u001b[0m \u001b[0mrange\u001b[0m\u001b[0;34m(\u001b[0m\u001b[0;36m10\u001b[0m\u001b[0;34m)\u001b[0m\u001b[0;34m:\u001b[0m\u001b[0;34m\u001b[0m\u001b[0;34m\u001b[0m\u001b[0m\n\u001b[0;32m----> 4\u001b[0;31m   \u001b[0mc\u001b[0m\u001b[0;34m=\u001b[0m\u001b[0minput\u001b[0m\u001b[0;34m(\u001b[0m\u001b[0;34m)\u001b[0m\u001b[0;34m\u001b[0m\u001b[0;34m\u001b[0m\u001b[0m\n\u001b[0m\u001b[1;32m      5\u001b[0m   \u001b[0mdb\u001b[0m\u001b[0;34m.\u001b[0m\u001b[0mappend\u001b[0m\u001b[0;34m(\u001b[0m\u001b[0mc\u001b[0m\u001b[0;34m.\u001b[0m\u001b[0msplit\u001b[0m\u001b[0;34m(\u001b[0m\u001b[0;34m' '\u001b[0m\u001b[0;34m)\u001b[0m\u001b[0;34m)\u001b[0m\u001b[0;34m\u001b[0m\u001b[0;34m\u001b[0m\u001b[0m\n\u001b[1;32m      6\u001b[0m \u001b[0;34m\u001b[0m\u001b[0m\n",
            "\u001b[0;32m/usr/local/lib/python3.10/dist-packages/ipykernel/kernelbase.py\u001b[0m in \u001b[0;36mraw_input\u001b[0;34m(self, prompt)\u001b[0m\n\u001b[1;32m    849\u001b[0m                 \u001b[0;34m\"raw_input was called, but this frontend does not support input requests.\"\u001b[0m\u001b[0;34m\u001b[0m\u001b[0;34m\u001b[0m\u001b[0m\n\u001b[1;32m    850\u001b[0m             )\n\u001b[0;32m--> 851\u001b[0;31m         return self._input_request(str(prompt),\n\u001b[0m\u001b[1;32m    852\u001b[0m             \u001b[0mself\u001b[0m\u001b[0;34m.\u001b[0m\u001b[0m_parent_ident\u001b[0m\u001b[0;34m,\u001b[0m\u001b[0;34m\u001b[0m\u001b[0;34m\u001b[0m\u001b[0m\n\u001b[1;32m    853\u001b[0m             \u001b[0mself\u001b[0m\u001b[0;34m.\u001b[0m\u001b[0m_parent_header\u001b[0m\u001b[0;34m,\u001b[0m\u001b[0;34m\u001b[0m\u001b[0;34m\u001b[0m\u001b[0m\n",
            "\u001b[0;32m/usr/local/lib/python3.10/dist-packages/ipykernel/kernelbase.py\u001b[0m in \u001b[0;36m_input_request\u001b[0;34m(self, prompt, ident, parent, password)\u001b[0m\n\u001b[1;32m    893\u001b[0m             \u001b[0;32mexcept\u001b[0m \u001b[0mKeyboardInterrupt\u001b[0m\u001b[0;34m:\u001b[0m\u001b[0;34m\u001b[0m\u001b[0;34m\u001b[0m\u001b[0m\n\u001b[1;32m    894\u001b[0m                 \u001b[0;31m# re-raise KeyboardInterrupt, to truncate traceback\u001b[0m\u001b[0;34m\u001b[0m\u001b[0;34m\u001b[0m\u001b[0m\n\u001b[0;32m--> 895\u001b[0;31m                 \u001b[0;32mraise\u001b[0m \u001b[0mKeyboardInterrupt\u001b[0m\u001b[0;34m(\u001b[0m\u001b[0;34m\"Interrupted by user\"\u001b[0m\u001b[0;34m)\u001b[0m \u001b[0;32mfrom\u001b[0m \u001b[0;32mNone\u001b[0m\u001b[0;34m\u001b[0m\u001b[0;34m\u001b[0m\u001b[0m\n\u001b[0m\u001b[1;32m    896\u001b[0m             \u001b[0;32mexcept\u001b[0m \u001b[0mException\u001b[0m \u001b[0;32mas\u001b[0m \u001b[0me\u001b[0m\u001b[0;34m:\u001b[0m\u001b[0;34m\u001b[0m\u001b[0;34m\u001b[0m\u001b[0m\n\u001b[1;32m    897\u001b[0m                 \u001b[0mself\u001b[0m\u001b[0;34m.\u001b[0m\u001b[0mlog\u001b[0m\u001b[0;34m.\u001b[0m\u001b[0mwarning\u001b[0m\u001b[0;34m(\u001b[0m\u001b[0;34m\"Invalid Message:\"\u001b[0m\u001b[0;34m,\u001b[0m \u001b[0mexc_info\u001b[0m\u001b[0;34m=\u001b[0m\u001b[0;32mTrue\u001b[0m\u001b[0;34m)\u001b[0m\u001b[0;34m\u001b[0m\u001b[0;34m\u001b[0m\u001b[0m\n",
            "\u001b[0;31mKeyboardInterrupt\u001b[0m: Interrupted by user"
          ]
        }
      ]
    }
  ]
}